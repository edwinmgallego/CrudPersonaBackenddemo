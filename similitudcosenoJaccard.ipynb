{
  "nbformat": 4,
  "nbformat_minor": 0,
  "metadata": {
    "colab": {
      "provenance": [],
      "include_colab_link": true
    },
    "kernelspec": {
      "name": "python3",
      "display_name": "Python 3"
    },
    "language_info": {
      "name": "python"
    }
  },
  "cells": [
    {
      "cell_type": "markdown",
      "metadata": {
        "id": "view-in-github",
        "colab_type": "text"
      },
      "source": [
        "<a href=\"https://colab.research.google.com/github/edwinmgallego/CrudPersonaBackenddemo/blob/master/similitudcosenoJaccard.ipynb\" target=\"_parent\"><img src=\"https://colab.research.google.com/assets/colab-badge.svg\" alt=\"Open In Colab\"/></a>"
      ]
    },
    {
      "cell_type": "code",
      "source": [
        "pip install PyPDF2"
      ],
      "metadata": {
        "colab": {
          "base_uri": "https://localhost:8080/"
        },
        "id": "xYAQRWFeW1Mi",
        "outputId": "7bb1ba4f-cfe8-4161-fd9f-57545417bb8b"
      },
      "execution_count": 2,
      "outputs": [
        {
          "output_type": "stream",
          "name": "stdout",
          "text": [
            "Collecting PyPDF2\n",
            "  Downloading pypdf2-3.0.1-py3-none-any.whl (232 kB)\n",
            "\u001b[?25l     \u001b[90m━━━━━━━━━━━━━━━━━━━━━━━━━━━━━━━━━━━━━━━━\u001b[0m \u001b[32m0.0/232.6 kB\u001b[0m \u001b[31m?\u001b[0m eta \u001b[36m-:--:--\u001b[0m\r\u001b[2K     \u001b[91m━━━━━━━━━━━━━━━━━━━━━\u001b[0m\u001b[90m╺\u001b[0m\u001b[90m━━━━━━━━━━━━━━━━━━\u001b[0m \u001b[32m122.9/232.6 kB\u001b[0m \u001b[31m3.4 MB/s\u001b[0m eta \u001b[36m0:00:01\u001b[0m\r\u001b[2K     \u001b[90m━━━━━━━━━━━━━━━━━━━━━━━━━━━━━━━━━━━━━━━━\u001b[0m \u001b[32m232.6/232.6 kB\u001b[0m \u001b[31m4.4 MB/s\u001b[0m eta \u001b[36m0:00:00\u001b[0m\n",
            "\u001b[?25hInstalling collected packages: PyPDF2\n",
            "Successfully installed PyPDF2-3.0.1\n"
          ]
        }
      ]
    },
    {
      "cell_type": "code",
      "source": [
        "pip install scikit-learn"
      ],
      "metadata": {
        "colab": {
          "base_uri": "https://localhost:8080/"
        },
        "id": "oICl8mFlXF39",
        "outputId": "171e2b8d-dccd-4292-bb43-c1cd997608be"
      },
      "execution_count": 3,
      "outputs": [
        {
          "output_type": "stream",
          "name": "stdout",
          "text": [
            "Requirement already satisfied: scikit-learn in /usr/local/lib/python3.10/dist-packages (1.2.2)\n",
            "Requirement already satisfied: numpy>=1.17.3 in /usr/local/lib/python3.10/dist-packages (from scikit-learn) (1.25.2)\n",
            "Requirement already satisfied: scipy>=1.3.2 in /usr/local/lib/python3.10/dist-packages (from scikit-learn) (1.11.4)\n",
            "Requirement already satisfied: joblib>=1.1.1 in /usr/local/lib/python3.10/dist-packages (from scikit-learn) (1.4.2)\n",
            "Requirement already satisfied: threadpoolctl>=2.0.0 in /usr/local/lib/python3.10/dist-packages (from scikit-learn) (3.5.0)\n"
          ]
        }
      ]
    },
    {
      "cell_type": "code",
      "source": [
        "import PyPDF2\n",
        "from sklearn.feature_extraction.text import TfidfVectorizer\n",
        "from sklearn.metrics.pairwise import cosine_similarity\n",
        "from sklearn.feature_extraction.text import CountVectorizer\n",
        "from sklearn.metrics import jaccard_score\n",
        "import numpy as np\n",
        "\n",
        "# Función para extraer texto de un archivo PDF\n",
        "def extraer_texto_pdf(archivo_pdf):\n",
        "    # Abrir el archivo PDF\n",
        "    with open(archivo_pdf, 'rb') as archivo:\n",
        "        # Crear un lector de PDF\n",
        "        lector_pdf = PyPDF2.PdfReader(archivo)\n",
        "        # Inicializar una lista para almacenar el texto extraído\n",
        "        texto_extraido = []\n",
        "        # Recorrer todas las páginas del PDF\n",
        "        for num_pagina in range(len(lector_pdf.pages)):\n",
        "            # Obtener la página actual\n",
        "            pagina = lector_pdf.pages[num_pagina]\n",
        "            # Extraer texto de la página y agregarlo al vector\n",
        "            texto_extraido.append(pagina.extract_text())\n",
        "        return texto_extraido\n",
        "\n",
        "# Nombre de los archivos PDF\n",
        "archivo_pdf1 = 'pruebatest1.pdf'\n",
        "archivo_pdf2 = 'pruebaTest2.pdf'\n",
        "\n",
        "# Extraer el texto de los PDF y almacenarlo en los vectores pruebatexto1 y pruebatexto2\n",
        "pruebatexto1 = extraer_texto_pdf(archivo_pdf1)\n",
        "pruebatexto2 = extraer_texto_pdf(archivo_pdf2)\n",
        "\n",
        "# Unir el texto de todas las páginas en una sola cadena para cada archivo\n",
        "texto_unido1 = \" \".join(pruebatexto1)\n",
        "texto_unido2 = \" \".join(pruebatexto2)\n",
        "\n",
        "# Contar las palabras en cada texto unido\n",
        "conteo_palabras1 = len(texto_unido1.split())\n",
        "conteo_palabras2 = len(texto_unido2.split())\n",
        "\n",
        "# Imprimir el número de palabras en cada vector\n",
        "print(f\"Número de palabras en pruebatexto1: {conteo_palabras1}\")\n",
        "print(f\"Número de palabras en pruebatexto2: {conteo_palabras2}\")\n",
        "\n",
        "# --- Similitud del coseno ---\n",
        "\n",
        "# Crear un vectorizador TF-IDF\n",
        "vectorizador = TfidfVectorizer()\n",
        "\n",
        "# Ajustar y transformar los textos en vectores TF-IDF\n",
        "tfidf_matrix = vectorizador.fit_transform([texto_unido1, texto_unido2])\n",
        "\n",
        "# Calcular la similitud del coseno\n",
        "similitud_coseno = cosine_similarity(tfidf_matrix[0:1], tfidf_matrix[1:2])\n",
        "\n",
        "# Imprimir la similitud del coseno\n",
        "print(f\"Similitud del coseno entre los textos: {similitud_coseno[0][0]}\")\n",
        "\n",
        "# --- Similitud de Jaccard ---\n",
        "\n",
        "# Crear un vectorizador de conteo para obtener la presencia de términos\n",
        "vectorizador_contar = CountVectorizer(binary=True)\n",
        "\n",
        "# Ajustar y transformar los textos en vectores binarios (presencia/ausencia de términos)\n",
        "vector_binario = vectorizador_contar.fit_transform([texto_unido1, texto_unido2]).toarray()\n",
        "\n",
        "# Calcular la similitud de Jaccard\n",
        "similitud_jaccard = jaccard_score(vector_binario[0], vector_binario[1])\n",
        "\n",
        "# Imprimir la similitud de Jaccard\n",
        "print(f\"Similitud de Jaccard entre los textos: {similitud_jaccard}\")\n"
      ],
      "metadata": {
        "colab": {
          "base_uri": "https://localhost:8080/"
        },
        "id": "xklLfRlEXUOH",
        "outputId": "9128f28d-569a-4f01-fb7b-7c9caed8ade8"
      },
      "execution_count": 4,
      "outputs": [
        {
          "output_type": "stream",
          "name": "stdout",
          "text": [
            "Número de palabras en pruebatexto1: 83\n",
            "Número de palabras en pruebatexto2: 83\n",
            "Similitud del coseno entre los textos: 1.0\n",
            "Similitud de Jaccard entre los textos: 1.0\n"
          ]
        }
      ]
    }
  ]
}